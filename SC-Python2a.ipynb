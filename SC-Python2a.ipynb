{
 "cells": [
  {
   "cell_type": "markdown",
   "metadata": {},
   "source": [
    "![](http://thecads.org/wp-content/uploads/2017/02/adax_logo.jpg)\n",
    "# Module 2: Data Structures in Python\n",
    "\n",
    "## 2a. List, Tuples and Dictionaries\n",
    "\n",
    "### Contents:\n",
    "\n",
    "* [List](#List)\n",
    "* [Tuples](#Tuples)\n",
    "* [Dictionary](#Dictionary)"
   ]
  },
  {
   "cell_type": "markdown",
   "metadata": {},
   "source": [
    "## List \n",
    "\n",
    "Well done so far! This is your introduction to structured data.\n",
    "\n",
    "Today, we're going to introduce the list data type, and\n",
    "lists are much more powerful than strings, so whereas for a string, all of the elements had to be characters, in a list, the elements can be anything we want. They could be characters. They could be strings. They could be numbers. They could also be other lists.\n",
    "\n",
    "Like a string, a **list** is a sequence of values. In a string, the values are characters; in a list, they can be any type. The values in list are called **elements** or sometimes **items**.\n",
    "\n",
    "List elements are written within square brackets [ ]. Square brackets [ ] access data, with the first element at index 0.  Many of the operations defined above for strings also apply to lists. So it can be convenient to think of a string simply as a list of characters."
   ]
  },
  {
   "cell_type": "code",
   "execution_count": 85,
   "metadata": {
    "collapsed": true
   },
   "outputs": [],
   "source": [
    "colors = ['red', 'blue', 'green']"
   ]
  },
  {
   "cell_type": "code",
   "execution_count": null,
   "metadata": {},
   "outputs": [
    {
     "name": "stdout",
     "output_type": "stream",
     "text": [
      "red\n",
      "blue\n",
      "green\n",
      "\n"
     ]
    }
   ],
   "source": [
    "# Indexing: how to call out specific element in the list.\n",
    "# print out the each element in the list \"colors\", starting from first element. \n",
    "colors = ['red', 'blue', 'green']\n",
    "print(colors[0])\n",
    "print(colors[1])\n",
    "print(colors[2]) and print(colors[0:2]) \n",
    "print('')\n"
   ]
  },
  {
   "cell_type": "code",
   "execution_count": null,
   "metadata": {
    "collapsed": true
   },
   "outputs": [],
   "source": [
    "# if we want to check if something is present in a list?\n",
    "\n",
    "print('red' in colors)\n",
    "print('black' in colors)\n",
    "print(\"\")\n"
   ]
  },
  {
   "cell_type": "code",
   "execution_count": null,
   "metadata": {
    "collapsed": true
   },
   "outputs": [],
   "source": [
    "numbers = [5, 4, 3, 2, 1, 'hello', 2.3]\n",
    "\n",
    "# to check the length of the numbers?\n",
    "\n",
    "print(len(numbers))\n"
   ]
  },
  {
   "cell_type": "code",
   "execution_count": null,
   "metadata": {
    "collapsed": true
   },
   "outputs": [],
   "source": [
    "list_of_lists = [[1,2,3],[4,5,6],[7,8,9]]\n",
    "print(list_of_lists) # print out the entire list above.\n",
    "print('')\n",
    "print(list_of_lists[-1]) # print out the last element in the list.\n",
    "print(list_of_lists[-1][-1]) #first bracket to select which sublist, 2nd bracket to select which element in the sublist \n",
    "\n",
    "\n",
    "\n",
    "\n"
   ]
  },
  {
   "cell_type": "code",
   "execution_count": null,
   "metadata": {
    "collapsed": true
   },
   "outputs": [],
   "source": [
    "# Empty list\n",
    "c = []"
   ]
  },
  {
   "cell_type": "code",
   "execution_count": null,
   "metadata": {
    "collapsed": true
   },
   "outputs": [],
   "source": [
    "# Assignment with an = on lists does not make a copy. \n",
    "# Instead, assignment makes the two variables \n",
    "# point to the one list in memory.\n",
    "b = a = [1,2,3,5,6]\n",
    "print(a)\n",
    "print('')\n",
    "print(b)\n",
    "a.append(0)\n",
    "print(a) and print(b)\n",
    "\n",
    "print(b)\n",
    "\n",
    "a = [4,5]\n",
    "print(a) #overwrite the previous value because new value is assigned to a\n",
    "\n",
    "# what is a.append() ?\n",
    "# to add values to the list"
   ]
  },
  {
   "cell_type": "code",
   "execution_count": null,
   "metadata": {
    "collapsed": true
   },
   "outputs": [],
   "source": [
    "# Now observe when we print out list a and b separately. \n",
    "\n",
    "print(b)\n",
    "print()\n",
    "print(a)\n",
    "\n",
    "# Note: The above is true for all objects in Python, not only lists.\n",
    "# (We'll talk more about objects later)\n"
   ]
  },
  {
   "cell_type": "code",
   "execution_count": null,
   "metadata": {
    "collapsed": true
   },
   "outputs": [],
   "source": [
    "# Nested Lists... let's say we have information on the population (in thousands). \n",
    "countries = [['China','Beijing', 1350],\n",
    "             ['India','New Delhi',1210],\n",
    "             ['United States','Washington DC', 309],\n",
    "             ['Malaysia','Kuala Lumpur',29]]\n",
    "\n",
    "# How many times bigger is the population of \n",
    "# China, India, and the US relative to Malaysia?\n",
    "\n",
    "us = (countries[2][2])/countries[3][2])\n",
    "india = (countries[1][2])/countries[3][2])\n",
    "china = (countries[0][2])/countries[3][2])\n",
    "\n",
    "print('US population is bigger by \"us\" relative to Malaysia') #us\n",
    "\n",
    "print('India population is bigger by \"india\" relative to Malaysia') #india\n",
    "\n",
    "print('China population is bigger by \"china\" relative to Malaysia') #china\n"
   ]
  },
  {
   "cell_type": "code",
   "execution_count": null,
   "metadata": {
    "collapsed": true
   },
   "outputs": [],
   "source": [
    "# Practice question!\n",
    "# Define a function that inputs a string with the month and returns the number \n",
    "# of days in that month.\n",
    "\n",
    "def month_day(month): \n",
    "    months = [\"January\", \"February\", \"March\", \"April\", \"May\", \"June\", \"July\",\\\n",
    "          \"August\", \"September\", \"October\", \"November\", \"December\"]\n",
    "    days = [31,28,31,30,31,30,31,31,30,31,30,31]\n",
    "              \n",
    "    idx = months.index(method)\n",
    "        return (days(idx))\n",
    "    \n"
   ]
  },
  {
   "cell_type": "code",
   "execution_count": null,
   "metadata": {
    "collapsed": true
   },
   "outputs": [],
   "source": [
    "# Now let's test your codes.\n",
    "# Execute these codes.\n",
    "\n",
    "print(month_day('June'))\n",
    "print(month_day('July'))\n",
    "print(month_day('December'))"
   ]
  },
  {
   "cell_type": "markdown",
   "metadata": {},
   "source": [
    "### Mutation"
   ]
  },
  {
   "cell_type": "code",
   "execution_count": null,
   "metadata": {
    "collapsed": true
   },
   "outputs": [],
   "source": [
    "# A big difference is strings can't mutate - \n",
    "# they can't change the existing object.\n",
    "# Execute this and see for yourself.\n",
    "\n",
    "s = 'Hello'\n"
   ]
  },
  {
   "cell_type": "code",
   "execution_count": null,
   "metadata": {
    "collapsed": true
   },
   "outputs": [],
   "source": [
    "# String is immutable - means it cannot be changed or modified\n",
    "# Now remove the hash from below and try executing it.\n",
    "\n",
    "# s[0] = \"Y\"\n"
   ]
  },
  {
   "cell_type": "code",
   "execution_count": null,
   "metadata": {
    "collapsed": true
   },
   "outputs": [],
   "source": [
    "# But Lists are mutable: once an object is mutable, then we\n",
    "# have to worry about other variables that might\n",
    "# refer to the same object. \n",
    "\n",
    "p = ['H','e','l','l','o']\n",
    "\n",
    "p[0] = 'Y'\n",
    "print(p)\n",
    "\n",
    "# so what is the difference with b = a = [1,2,3,5,6] ?"
   ]
  },
  {
   "cell_type": "code",
   "execution_count": null,
   "metadata": {
    "collapsed": true
   },
   "outputs": [],
   "source": [
    "# Assignment with an = on lists does not make a copy. \n",
    "# Instead, assignment makes the two variables \n",
    "# point to the one list in memory.\n",
    "\n",
    "num = [4,5,6,8,9]\n",
    "b = num\n",
    "\n",
    "# Now do the following:\n",
    "# print out the original variable \"num\"\n",
    "# append element (0) to the variable \"num\"\n",
    "# now print out both \"num\" and \"b\"\n",
    "print(num)\n",
    "num.append(0)\n",
    "print(num)\n",
    "print(b)\n"
   ]
  },
  {
   "cell_type": "markdown",
   "metadata": {},
   "source": [
    "### List Methods\n",
    "\n",
    "- list.append(elem) -- adds a single element to the end of the list. Common error: does not return the new list, just modifies the original.\n",
    "- list.insert(index, elem) -- inserts the element at the given index, shifting elements to the right.\n",
    "- list.extend(list2) adds the elements in list2 to the end of the list. Using + or += on a list is similar to using extend().\n",
    "- list.index(elem) -- searches for the given element from the start of the list and returns its index. Throws a ValueError if the element does not appear (use \"in\" to check without a ValueError).\n",
    "- list.remove(elem) -- searches for the first instance of the given element and removes it (throws ValueError if not present)\n",
    "- list.sort() -- sorts the list in place (does not return it).\n",
    "- sorted(list) -- return sorted list but keeps the original order of the list\n",
    "- list.reverse() -- reverses the list in place (does not return it)\n",
    "- list.pop(index) -- removes and returns the element at the given index. Returns the rightmost element if index is omitted (roughly the opposite of append())."
   ]
  },
  {
   "cell_type": "code",
   "execution_count": null,
   "metadata": {
    "collapsed": true
   },
   "outputs": [],
   "source": [
    "colors = ['red', 'green', 'blue']\n",
    "\n",
    "print(colors)\n",
    "colors.append('purple') #append always add after the last element\n",
    "print(colors)\n"
   ]
  },
  {
   "cell_type": "code",
   "execution_count": null,
   "metadata": {
    "collapsed": true
   },
   "outputs": [],
   "source": [
    "# .insert\n",
    "colors = ['red','yellow','green']\n",
    "colors.insert(1, 'yellow')\n",
    "print(colors)\n",
    "print()\n"
   ]
  },
  {
   "cell_type": "code",
   "execution_count": null,
   "metadata": {
    "collapsed": true
   },
   "outputs": [],
   "source": [
    "# .extend\n",
    "new_list = ['cyan','white']\n",
    "colors.extend(new_list)\n",
    "print(colors)\n"
   ]
  },
  {
   "cell_type": "code",
   "execution_count": null,
   "metadata": {
    "collapsed": true
   },
   "outputs": [],
   "source": [
    "# .index\n",
    "# .remove\n",
    "\n",
    "colors.remove('white')\n",
    "print(colors)\n",
    "print()"
   ]
  },
  {
   "cell_type": "code",
   "execution_count": null,
   "metadata": {
    "collapsed": true
   },
   "outputs": [],
   "source": [
    "# use del \n",
    "del colors[1]\n",
    "print()"
   ]
  },
  {
   "cell_type": "code",
   "execution_count": null,
   "metadata": {
    "collapsed": true
   },
   "outputs": [],
   "source": [
    "\n",
    "\n",
    "colors.sort(reverse=False)\n",
    "print(colors)"
   ]
  },
  {
   "cell_type": "code",
   "execution_count": null,
   "metadata": {
    "collapsed": true
   },
   "outputs": [],
   "source": [
    "# what does .sort do?\n",
    "\n",
    "\n",
    "\n",
    "colors.sort(reverse=True)\n",
    "print(colors)\n"
   ]
  },
  {
   "cell_type": "code",
   "execution_count": null,
   "metadata": {
    "collapsed": true
   },
   "outputs": [],
   "source": [
    "#. reverse\n",
    "\n",
    "print()\n"
   ]
  },
  {
   "cell_type": "code",
   "execution_count": null,
   "metadata": {
    "collapsed": true
   },
   "outputs": [],
   "source": [
    "#print this: colors.pop(1)\n",
    "print(colors)\n",
    "print(colors.pop(1))\n",
    "print(colors)"
   ]
  },
  {
   "cell_type": "code",
   "execution_count": null,
   "metadata": {
    "collapsed": true
   },
   "outputs": [],
   "source": [
    "# what is the final list?\n",
    "colors = 'red', 'purple', 'green'\n",
    "print(colors)\n",
    "print()\n"
   ]
  },
  {
   "cell_type": "code",
   "execution_count": null,
   "metadata": {
    "collapsed": true
   },
   "outputs": [],
   "source": [
    "# using sorted().\n",
    "# is it the same as .sort()?\n",
    "\n",
    "print((sorted(colors, reverse=True)))\n"
   ]
  },
  {
   "cell_type": "code",
   "execution_count": null,
   "metadata": {
    "collapsed": true
   },
   "outputs": [],
   "source": [
    "#pop\n",
    "\n",
    "colors.pop()\n",
    "print(colors)\n",
    "\n",
    "# what is the removed element?\n",
    "# why?"
   ]
  },
  {
   "cell_type": "code",
   "execution_count": null,
   "metadata": {
    "collapsed": true
   },
   "outputs": [],
   "source": [
    "# Let's restart again.\n",
    "\n",
    "colors = ['red', 'yellow', 'green', 'blue', 'purple', 'cyan']\n",
    "print(colors)\n",
    "\n",
    "print((sorted(colors)))"
   ]
  },
  {
   "cell_type": "code",
   "execution_count": null,
   "metadata": {
    "collapsed": true
   },
   "outputs": [],
   "source": [
    "# If you run the following four lines of codes, what are list1 and list2?\n",
    "\n",
    "list1 = [1,2,3,4]\n",
    "list2 = [1,2,3,4]\n",
    "\n",
    "print(list1 is list2)\n",
    "\n",
    "list1 = list1 + [5, 6]\n",
    "print(list1)\n",
    "print()\n",
    "\n",
    "list1.extend([7,8])\n",
    "print(list1)\n",
    "print()\n",
    "\n",
    "list2.append([5, 6])\n",
    "print(list2)"
   ]
  },
  {
   "cell_type": "markdown",
   "metadata": {},
   "source": [
    "### List Slices\n",
    "\n",
    "Slices work on lists just as with strings, and can also be used to change sub-parts of the list."
   ]
  },
  {
   "cell_type": "code",
   "execution_count": null,
   "metadata": {
    "collapsed": true
   },
   "outputs": [],
   "source": [
    "cars = ['Toyota', 'BMW', 'Honda', 'Benz', 'Isuzu', 'Volkswagen', 'Mazda']\n",
    "\n",
    "# print out the following:\n",
    "# the second and third element\n",
    "# the second to the second last element\n",
    "# the first three elements\n"
   ]
  },
  {
   "cell_type": "markdown",
   "metadata": {},
   "source": [
    "### List Sorting\n",
    "\n",
    "Note: The *sort* function for lists does not return a sorted list. It just carries out the sorting operation on the list."
   ]
  },
  {
   "cell_type": "code",
   "execution_count": null,
   "metadata": {
    "collapsed": true
   },
   "outputs": [],
   "source": [
    "# How computers store data\n",
    "# Format: size of storage (in bits), cost ($), latency (seconds)\n",
    "processor_speed = 2.4e9\n",
    "lightbulb = [1,.50,1,.25]\n",
    "register = [1.5*8*2**10,.001,1/processor_speed]\n",
    "hard_disk = [2**50,100, 0.007]\n",
    "ram = [2*2**40,10,12e-9]\n",
    "\n",
    "print(processor_speed,lightbulb,register,ram,hard_disk)\n",
    "\n",
    "# nesting them up together with some random ordering\n",
    "all_item = [register, hard_disk, ram, lightbulb]\n"
   ]
  },
  {
   "cell_type": "code",
   "execution_count": null,
   "metadata": {
    "collapsed": true
   },
   "outputs": [],
   "source": [
    "# Q: how are the \"lists in the list\" sorted?\n",
    "\n",
    "# before sorting\n",
    "print(all_item)\n",
    "print()\n",
    "\n",
    "# after sorting\n",
    "all_item.sort()\n",
    "print(all_item)"
   ]
  },
  {
   "cell_type": "markdown",
   "metadata": {},
   "source": [
    "### For & In (Or Loops on Lists)\n",
    "\n",
    "Python's *for* and *in* constructs are extremely useful especially with lists. The *for* construct -- `for var in list` -- is an easy way to look at each element in a list (or other collection)."
   ]
  },
  {
   "cell_type": "code",
   "execution_count": null,
   "metadata": {
    "collapsed": true
   },
   "outputs": [],
   "source": [
    "a = [1,2,3,4,5]\n",
    "i = 0\n",
    "len_a = len(a)\n",
    "print(len_a)\n",
    "print()\n",
    "# Print a loop through list \"a\" using while\n",
    "\n",
    "while i < len_a:\n",
    "    print(a[i])\n",
    "    i +=1\n"
   ]
  },
  {
   "cell_type": "code",
   "execution_count": null,
   "metadata": {
    "collapsed": true
   },
   "outputs": [],
   "source": [
    "# Syntax of for and in:\n",
    "\n",
    "# for each_element in a_list:\n",
    "    #Iterates through each element\n",
    "    #where each_element refers to the variable within the for loop that holds the list item.\n",
    "b = [1,2,3,4,5,6,7]\n",
    "for items in b: #more simple to iterate in a list, but without restrictions\n",
    "    print(items)"
   ]
  },
  {
   "cell_type": "code",
   "execution_count": null,
   "metadata": {
    "collapsed": true
   },
   "outputs": [],
   "source": [
    "# going back to colors earlier;\n",
    "# execute this\n",
    "print(colors)\n",
    "print((type(colors)))\n",
    "print(colors) \n",
    "\n",
    "# for each element in the \"colors\" list, print the elements\n",
    "# also, for each of the element, use element.title() function and print again.\n",
    "# can you guess what .title() does\n",
    "\n",
    "for element in colors:\n",
    "    print(element)\n",
    "    print(element)\n",
    "    print(element.title()) # .title() capitalize first alphabet of the string\n",
    "    print()"
   ]
  },
  {
   "cell_type": "code",
   "execution_count": null,
   "metadata": {
    "collapsed": true
   },
   "outputs": [],
   "source": [
    "# Define sum_list which finds and returns the sum of all numbers in a list\n",
    "\n",
    "def sum_list(your_list):\n",
    "    \n",
    "    count = 0\n",
    "    for i in range(0,len(your_list)):\n",
    "        count += your_list\n",
    "        return count\n",
    "squares = [1, 4, 9, 16, 25]\n",
    "sum_list(squares)\n",
    "f"
   ]
  },
  {
   "cell_type": "code",
   "execution_count": null,
   "metadata": {
    "collapsed": true
   },
   "outputs": [],
   "source": [
    "# Here's a function that gives the union of lists.\n",
    "\n",
    "a = ['Orange','Banana','Apple']\n",
    "b = ['Banana', 'Orange','Durian']\n",
    "\n",
    "def union_of_lists(seta,setb):\n",
    "    return set().union(seta,setb)\n",
    "\n",
    "print(union_of_lists(a,b))\n",
    "print(list(union_of_lists(a,b)))"
   ]
  },
  {
   "cell_type": "markdown",
   "metadata": {},
   "source": [
    "### Practice"
   ]
  },
  {
   "cell_type": "code",
   "execution_count": null,
   "metadata": {
    "collapsed": true
   },
   "outputs": [],
   "source": [
    "# Practice Q1\n",
    "# Define a function that print the list of a specified list after removing even numbers from it\n",
    "# Note: this function will not return any values\n",
    "\n",
    "number = [7, 8, 120, 25, 44, 20, 27]\n",
    "def remove_even(x):\n",
    "    print(x)\n",
    "    for items in x: \n",
    "\n",
    "        print(number)\n",
    "        if((number % 2) ==0):\n",
    "            x.remove(number)\n",
    "        return(x)\n",
    "\n",
    "remove_even(num)\n"
   ]
  },
  {
   "cell_type": "code",
   "execution_count": null,
   "metadata": {
    "collapsed": true
   },
   "outputs": [],
   "source": [
    "# Practice Q2 \n",
    "# Write a function called my_sort - it takes a list of lists, and pops the last list and then reverses the order of lists.\n",
    "# Tip: list.pop()\n",
    "\n",
    "def my_sort(lists):\n",
    "   \n",
    "    a = len(lists)\n",
    "print(lists.pop(a-1))\n",
    "print(lists)\n",
    "lists.reverse\n",
    "print(lists)\n",
    "\n",
    "my_list =[1,2,3,[4,5],[2,3]]\n",
    "\n",
    "my_sort(my_list)   # this should return [[4, 5], 3, 2, 1]"
   ]
  },
  {
   "cell_type": "markdown",
   "metadata": {},
   "source": [
    "### Enumerate\n",
    "\n",
    "To find out the index of the item in the loop we can use list.index(elem), but there is another way to do this using enumerate().\n"
   ]
  },
  {
   "cell_type": "code",
   "execution_count": null,
   "metadata": {
    "collapsed": true
   },
   "outputs": [],
   "source": [
    "my_list = ['happy', 'sad', 'angry']\n",
    "\n",
    "# Execute the codes given:\n",
    "\n",
    "# Here we use another built-in function list([iterable]) \n",
    "# which returns a list whose items are the same and\n",
    "# in the same order as iterable‘s items).\n",
    "\n",
    "list(enumerate(my_list))"
   ]
  },
  {
   "cell_type": "code",
   "execution_count": null,
   "metadata": {
    "collapsed": true
   },
   "outputs": [],
   "source": [
    "# We may easily change the start count/index with help of enumerate(sequence, start=0)\n",
    "\n",
    "for index, item in enumerate(my_list, start = 1):\n",
    "    print(index, my_list)"
   ]
  },
  {
   "cell_type": "markdown",
   "metadata": {},
   "source": [
    "### Range\n",
    "\n",
    "The range(n) function yields the numbers 0, 1, ... n-1, and range(a, b) returns a, a+1, ... b-1 -- up to but not including the last number. "
   ]
  },
  {
   "cell_type": "code",
   "execution_count": null,
   "metadata": {
    "collapsed": true
   },
   "outputs": [],
   "source": [
    "squares =[1,4,9,16,25]\n",
    "\n",
    "# Now execute the following codes:\n",
    "a = list(range(100,110))\n",
    "print(a)\n",
    "\n",
    "b = list(range(5))\n",
    "print(b)\n",
    "for i in range(5):\n",
    "    print(i)\n",
    "    \n",
    "    print()\n",
    "    for i in range(len(squares)):\n",
    "        print(squares[i])\n",
    "        \n",
    "    for square in squares:\n",
    "        print(square)\n",
    "        "
   ]
  },
  {
   "cell_type": "code",
   "execution_count": null,
   "metadata": {
    "collapsed": true
   },
   "outputs": [],
   "source": [
    "# Write a function to print a specified list\n",
    "# after removing the 0th, 3rd and 4th items\n",
    "\n",
    "my_list= ['Red', 'Green', 'White', 'Black', 'Pink', 'Yellow']\n",
    "\n",
    "def remove_list(list1):\n",
    "   for (i,x) in enumerate(list1):\n",
    "    \n",
    "remove_list(my_list)"
   ]
  },
  {
   "cell_type": "markdown",
   "metadata": {},
   "source": [
    "### Lambda\n",
    "\n",
    "Python supports the creation of anonymous functions (i.e. functions that are not bound to a name) at runtime, using a construct called \"lambda\".\n",
    "\n",
    "Normal python function:\n",
    "```python\n",
    "def f (x):\n",
    "    return x**2\n",
    "\n",
    "f(8)\n",
    "```\n",
    "while for lambda:\n",
    "\n",
    "```python\n",
    "g = lambda x: x**\n",
    "print(g(8))\n",
    "```\n"
   ]
  },
  {
   "cell_type": "code",
   "execution_count": null,
   "metadata": {
    "collapsed": true
   },
   "outputs": [],
   "source": [
    "f = lambda x, y : x + y\n",
    "\n",
    "f(2,3)"
   ]
  },
  {
   "cell_type": "markdown",
   "metadata": {},
   "source": [
    "Lambda functions are mainly used in combination with the functions filter() and map(). At this juncture, it is not necessary to know these two functions in detail, but you can use `help` to figure out what they do."
   ]
  },
  {
   "cell_type": "code",
   "execution_count": null,
   "metadata": {
    "collapsed": true
   },
   "outputs": [],
   "source": [
    "#lambda examples\n",
    "\n",
    "# example 1\n",
    "sentence = 'It is raining cats and dogs'\n",
    "\n",
    "word=sentence.split()\n",
    "\n",
    "print(word)\n",
    "for i in word: \n",
    "    count=len(i)\n",
    "    print(count)\n",
    "\n",
    "# Now change the above into a lambda function using map\n"
   ]
  },
  {
   "cell_type": "code",
   "execution_count": null,
   "metadata": {
    "collapsed": true
   },
   "outputs": [],
   "source": [
    "# example 2\n",
    "a = [2,3,5,6,7,8]\n",
    "\n",
    "def power(a):\n",
    "    return a**2\n",
    "\n",
    "# filter ()\n",
    "h=filter(lambda num1: num1 % 2 == 0, a)\n",
    "print(list(h))\n",
    "\n",
    "# map()\n",
    "h = map(lambda num1: power(num1), a)\n",
    "print(list(h))"
   ]
  },
  {
   "cell_type": "markdown",
   "metadata": {},
   "source": [
    "Revisiting our earlier sort function for lists, we can use lambda functions to specify the \"key\" within an inner list in which we would like to sort. "
   ]
  },
  {
   "cell_type": "code",
   "execution_count": null,
   "metadata": {
    "collapsed": true
   },
   "outputs": [],
   "source": [
    "print(all_item)  # remember, the lightbulb and the hard disk and ....\n",
    "all_item.sort(key=lambda x: x[2])         # this sorts the lists by the third item (the latency if you recall) \n",
    "print(all_item)"
   ]
  },
  {
   "cell_type": "markdown",
   "metadata": {},
   "source": [
    "### List Comprehensions\n",
    "\n",
    "A list comprehension is a compact expression to define a whole set.  It can be used to construct lists in a very natural, easy way, like a mathematician is used to do. \n",
    "\n",
    "The following comprehension says \"For each item in numbers, square it and add it to a new list squares.\"\n",
    "\n",
    "While we could also do this using a for-loop, it's often more convenient to use a list comprehension.\n",
    "\n",
    "```python\n",
    "for (set of values to iterate):\n",
    "     if (conditional filtering): \n",
    "        output_expression()\n",
    "```\n",
    "\n",
    "The same gets implemented in a simple LC construct in a single line as:\n",
    "```python\n",
    "[ output_expression() for(set of values to iterate) if(conditional filtering) ]\n",
    "```\n"
   ]
  },
  {
   "cell_type": "code",
   "execution_count": null,
   "metadata": {
    "collapsed": true
   },
   "outputs": [],
   "source": [
    "# 1\n",
    "numbers = [1, 2, 3, 4, 5, 6, 7, 8]\n",
    "squares = []\n",
    "\n",
    "for n in numbers:\n",
    "    squares.append(n*n)\n",
    "    \n",
    "print(squares)\n",
    "\n",
    "# 2\n",
    "numbers = [1, 2, 3, 4, 5, 6, 7, 8]\n",
    "squares = [n*n for n in numbers]\n",
    "    \n",
    "print(squares)\n"
   ]
  },
  {
   "cell_type": "code",
   "execution_count": null,
   "metadata": {
    "collapsed": true
   },
   "outputs": [],
   "source": []
  },
  {
   "cell_type": "markdown",
   "metadata": {},
   "source": [
    "### Practice"
   ]
  },
  {
   "cell_type": "code",
   "execution_count": null,
   "metadata": {
    "collapsed": true
   },
   "outputs": [],
   "source": [
    "# Q1\n",
    "numbers = [1, 2, 3, 4, 5, 6, 7, 8]\n",
    "\n",
    "# Given the list above, use list comprehension method to \n",
    "# square every element that is less or equal to 5\n",
    "# remember to print the outcome\n",
    "squares = [n*n for n in numbers if n <=5]\n",
    "print(squares)"
   ]
  },
  {
   "cell_type": "code",
   "execution_count": null,
   "metadata": {
    "collapsed": true
   },
   "outputs": [],
   "source": [
    "# Q2\n",
    "# Using the outcome from Q1\n",
    "# write a list comprehension method to square every element that is higher than 5\n",
    "squares = [n*n for n in numbers if n > 5]\n",
    "print(squares)"
   ]
  },
  {
   "cell_type": "code",
   "execution_count": null,
   "metadata": {
    "collapsed": true
   },
   "outputs": [],
   "source": [
    "# An example of a list comprehension with strings\n",
    "fruits = ['banana', 'apple', 'cherry', 'lime', 'mango']\n",
    "\n",
    "my_list = [s.upper() + '!!!' for s in fruits if 'a' in s]\n",
    "\n",
    "print(my_list)"
   ]
  },
  {
   "cell_type": "code",
   "execution_count": null,
   "metadata": {
    "collapsed": true
   },
   "outputs": [],
   "source": [
    "# Write one line of Python that takes this list a\n",
    "# and makes a new list that has only the odd \n",
    "# elements and power it with 3\n",
    "\n",
    "a = [1, 4, 9, 16, 25, 36, 49, 64, 81, 100]\n",
    "\n",
    "b = # ++your code here ++\n",
    "\n",
    "print(b)"
   ]
  },
  {
   "cell_type": "markdown",
   "metadata": {},
   "source": [
    "### Del\n",
    "\n",
    "The \"del\" operator does deletions. In the simplest case, it can remove the definition of a variable, as if that variable had not been defined. Del can also be used on list elements or slices to delete that part of the list and to delete entries from a dictionary."
   ]
  },
  {
   "cell_type": "code",
   "execution_count": null,
   "metadata": {
    "collapsed": true
   },
   "outputs": [],
   "source": [
    "var = 6\n",
    "del var  # var no more! HOW do we know it's gone? Use %who or %whos to check\n",
    "\n",
    "my_list = ['a', 'b', 'c', 'd']\n",
    "del my_list[0]     ## Delete first element\n",
    "del my_list[-2:]   ## Delete last two elements\n",
    "print(my_list)     ## ['b']\n",
    "\n",
    "# we will deal with dictionaries later below...\n",
    "my_dict = {'a':1, 'b':2, 'c':3}\n",
    "del my_dict['b']    ## Delete 'b' entry\n",
    "print(my_dict)      ## {'a':1, 'c':3}"
   ]
  },
  {
   "cell_type": "markdown",
   "metadata": {
    "collapsed": true
   },
   "source": [
    "## Tuples\n",
    "\n",
    "A tuple is a fixed size grouping of elements, such as an (x, y) co-ordinate. Tuples are like lists, except they are immutable and do not change size (tuples are not strictly immutable since one of the contained elements could be mutable). Tuples are a convenient way to pass around a little logical, fixed size bundle of values. A function that needs to return multiple values can just return a tuple of the values."
   ]
  },
  {
   "cell_type": "code",
   "execution_count": null,
   "metadata": {
    "collapsed": true
   },
   "outputs": [],
   "source": [
    "tup = (1, 2.3, 'hi', ['hi'])\n",
    "print(type(tup))\n",
    "print((len(tup)))\n",
    "\n",
    "print((tup[2]))\n",
    "\n",
    "#tup[2] = 'bye' # tuple element cannot be changed\n",
    "tup = (1, 2, 'bye')\n"
   ]
  },
  {
   "cell_type": "code",
   "execution_count": null,
   "metadata": {
    "collapsed": true
   },
   "outputs": [],
   "source": [
    "x,y,z = (42, 13, \"hike\")\n",
    "print((z, y))"
   ]
  },
  {
   "cell_type": "code",
   "execution_count": null,
   "metadata": {
    "collapsed": true
   },
   "outputs": [],
   "source": [
    "# you can convert lists to tuples\n",
    "list2 = [1,2,3]\n",
    "tup2 = tuple(list2)\n",
    "print(list2)\n",
    "print(tup2)"
   ]
  },
  {
   "cell_type": "code",
   "execution_count": null,
   "metadata": {
    "collapsed": true
   },
   "outputs": [],
   "source": [
    "# tuples can also be unpacked just like lists\n",
    "p,q,r = list2\n",
    "print(p,q,r)\n",
    "s,t,u = tup2\n",
    "print(s,t,u)"
   ]
  },
  {
   "cell_type": "markdown",
   "metadata": {},
   "source": [
    "## Hash functions"
   ]
  },
  {
   "cell_type": "markdown",
   "metadata": {},
   "source": [
    "The reason why accessing lists with loops can be slow is that we need to go through all the elements in order, and we are checking if they match the keyword. To determine that a keyword not in the list is not there, we had to go through the whole index.\n",
    "\n",
    "That's slow. What might be a better way to go through a list?\n",
    "\n",
    "You can sort it - it'll be like an index? But that takes time and effort too and isn't necessary!\n",
    "\n",
    "What we want is something that will allow us, given a keyword, to have some\n",
    "function that tells us where it belongs. That's called a hash function.\n",
    "\n",
    "The **Hash function** tells us where in the entry to look. Instead of looking through the whole index, you can just look at where it belongs.\n",
    "\n",
    "One easy way is using the first letter of a word. But there are problems with this:\n",
    "* It works best if you have roughly equal buckets of words.\n",
    "* If you have a million keywords, it only makes things 26 times faster at best\n",
    "\n",
    "Let's use some function on the whole 'key' or 'keyword' that will be able to tell us where it belongs. \n",
    "\n",
    "A hash function is a function that takes in a keyword, produces a number.  It outputs the position in the hash table which is the bucket where that keyword would appear. If we assume that there are b buckets, k keywords, which properties should a hash function have?\n",
    "\n",
    "* Output a unique number between 0 and k-1\n",
    "* Output a number between 0 and b-1\n",
    "* Map approximately k/b keywords to bucket 0\n",
    "* Map approximately k/b keywords to bucker b-1\n",
    "* Map more keywords to bucket 0 than to bucket 1"
   ]
  },
  {
   "cell_type": "markdown",
   "metadata": {},
   "source": [
    "## Dictionary\n",
    "\n",
    "Fortunately, Python has a built in hash table structure.\n",
    "\n",
    "Python's efficient key/value hash table structure is called a \"dict\".\n",
    "\n",
    "A dictionary is similar to a list, but you access values by looking up a key instead of an index. A key can be any string or number.\n",
    "\n",
    "The contents of a dict can be written as a series of key:value pairs within braces { }, e.g. dict = {key1:value1, key2:value2, ... }.\n",
    "\n",
    "The \"empty dict\" is just an empty pair of curly braces {}.\n",
    "\n",
    "Looking up or setting a value in a dict uses square brackets, e.g. dict['foo'] looks up the value under the key 'foo'. Strings, numbers, and tuples work as keys, and any type can be a value. Other types may or may not work correctly as keys.\n",
    "\n",
    "Dictionaries are mutable!"
   ]
  },
  {
   "cell_type": "code",
   "execution_count": 2,
   "metadata": {
    "collapsed": true
   },
   "outputs": [],
   "source": [
    "# create an empty dictionary\n",
    "newDict ={}"
   ]
  },
  {
   "cell_type": "code",
   "execution_count": 3,
   "metadata": {
    "collapsed": true
   },
   "outputs": [],
   "source": [
    "myDict = {}"
   ]
  },
  {
   "cell_type": "code",
   "execution_count": 4,
   "metadata": {
    "collapsed": true
   },
   "outputs": [],
   "source": [
    "# Now you have the following:\n",
    "\n",
    "myDict['a'] = 'gold'\n",
    "myDict['b'] = 'silver'\n",
    "myDict['c'] = 'bronze'\n",
    "myDict['d'] = 'platinum'\n"
   ]
  },
  {
   "cell_type": "code",
   "execution_count": 5,
   "metadata": {},
   "outputs": [
    {
     "ename": "SyntaxError",
     "evalue": "invalid syntax (<ipython-input-5-1a66d5cf4021>, line 4)",
     "output_type": "error",
     "traceback": [
      "\u001b[1;36m  File \u001b[1;32m\"<ipython-input-5-1a66d5cf4021>\"\u001b[1;36m, line \u001b[1;32m4\u001b[0m\n\u001b[1;33m    print('a' in myDict)\u001b[0m\n\u001b[1;37m        ^\u001b[0m\n\u001b[1;31mSyntaxError\u001b[0m\u001b[1;31m:\u001b[0m invalid syntax\n"
     ]
    }
   ],
   "source": [
    "# Try to print it out\n",
    "print(myDict)\n",
    "print((myDict('b'))\n",
    "print('a' in myDict)\n",
    "\n",
    "# How about printing specific elements?\n"
   ]
  },
  {
   "cell_type": "code",
   "execution_count": 6,
   "metadata": {},
   "outputs": [
    {
     "ename": "NameError",
     "evalue": "name 's' is not defined",
     "output_type": "error",
     "traceback": [
      "\u001b[1;31m---------------------------------------------------------------------------\u001b[0m",
      "\u001b[1;31mNameError\u001b[0m                                 Traceback (most recent call last)",
      "\u001b[1;32m<ipython-input-6-4153c80b8c60>\u001b[0m in \u001b[0;36m<module>\u001b[1;34m()\u001b[0m\n\u001b[0;32m      1\u001b[0m \u001b[1;31m#to list all keys\u001b[0m\u001b[1;33m\u001b[0m\u001b[1;33m\u001b[0m\u001b[0m\n\u001b[0;32m      2\u001b[0m \u001b[0ma\u001b[0m \u001b[1;33m=\u001b[0m \u001b[0mlist\u001b[0m\u001b[1;33m(\u001b[0m\u001b[0mmyDict\u001b[0m\u001b[1;33m.\u001b[0m\u001b[0mkeys\u001b[0m\u001b[1;33m(\u001b[0m\u001b[1;33m)\u001b[0m\u001b[1;33m)\u001b[0m\u001b[1;33m\u001b[0m\u001b[0m\n\u001b[1;32m----> 3\u001b[1;33m \u001b[0mprint\u001b[0m\u001b[1;33m(\u001b[0m\u001b[0ms\u001b[0m\u001b[1;33m)\u001b[0m\u001b[1;33m\u001b[0m\u001b[0m\n\u001b[0m\u001b[0;32m      4\u001b[0m \u001b[0mprint\u001b[0m\u001b[1;33m(\u001b[0m\u001b[0mtype\u001b[0m\u001b[1;33m(\u001b[0m\u001b[0ms\u001b[0m\u001b[1;33m)\u001b[0m\u001b[1;33m)\u001b[0m\u001b[1;33m\u001b[0m\u001b[0m\n",
      "\u001b[1;31mNameError\u001b[0m: name 's' is not defined"
     ]
    }
   ],
   "source": [
    "#to list all keys\n",
    "a = list(myDict.keys())\n",
    "print(s)\n",
    "print(type(s))\n"
   ]
  },
  {
   "cell_type": "code",
   "execution_count": 7,
   "metadata": {},
   "outputs": [
    {
     "name": "stdout",
     "output_type": "stream",
     "text": [
      "('items:', [('a', 'gold'), ('b', 'silver'), ('c', 'bronze'), ('d', 'platinum')])\n"
     ]
    }
   ],
   "source": [
    "print((\"items:\", list(myDict.items()))) # return list of tuples"
   ]
  },
  {
   "cell_type": "code",
   "execution_count": null,
   "metadata": {
    "collapsed": true
   },
   "outputs": [],
   "source": [
    "for key in myDict:\n",
    "    print((key, myDict[key]))"
   ]
  },
  {
   "cell_type": "code",
   "execution_count": null,
   "metadata": {
    "collapsed": true
   },
   "outputs": [],
   "source": [
    "# Assigning a dictionary with three key-value pairs to residents:\n",
    "residents = {'Puffin' : 104, 'Sloth' : 105, 'Burmese Python' : 106}\n",
    "\n",
    "print(residents['Puffin']) \n",
    "\n",
    "print(residents.keys())"
   ]
  },
  {
   "cell_type": "code",
   "execution_count": null,
   "metadata": {
    "collapsed": true
   },
   "outputs": [],
   "source": [
    "for i in list(myDict.keys()):\n",
    "    print((i,':', myDict[i]))\n",
    "\n",
    "print('\\nkey, value using items()')\n",
    "\n",
    "for k, v in list(myDict.items()):\n",
    "    print((k, ':', v))\n",
    "    \n",
    "print()"
   ]
  },
  {
   "cell_type": "markdown",
   "metadata": {},
   "source": [
    "### Dictionary Methods\n",
    "\n",
    "- len(dict) -- Gives the total length of the dictionary. This would be equal to the number of items in the dictionary.\n",
    "- str(dict) -- Produces a printable string representation of a dictionary\n",
    "- type(variable) -- Returns the type of the passed variable. If passed variable is dictionary, then it would return a dictionary type.\n",
    "- dict.clear() -- Removes all elements of dictionary dict\n",
    "- dict.copy() -- Returns a shallow copy of dictionary dict\n",
    "- dict.fromkeys() -- Create a new dictionary with keys from seq and values set to value.\n",
    "- dict.get(key, default=None) -- For key key, returns value or default if key not in dictionary\n",
    "- dict.items() -- Returns a list of dict's (key, value) tuple pairs\n",
    "- dict.keys() -- Returns list of dictionary dict's keys\n",
    "- dict.setdefault(key, default=None) -- Similar to get(), but will set dict[key]=default if key is not already in dict\n",
    "- dict.update(dict2) -- Adds dictionary dict2's key-values pairs to dict\n",
    "- dict.values() -- Returns list of dictionary dict's values"
   ]
  },
  {
   "cell_type": "code",
   "execution_count": 1,
   "metadata": {},
   "outputs": [
    {
     "ename": "NameError",
     "evalue": "name 'myDict' is not defined",
     "output_type": "error",
     "traceback": [
      "\u001b[1;31m---------------------------------------------------------------------------\u001b[0m",
      "\u001b[1;31mNameError\u001b[0m                                 Traceback (most recent call last)",
      "\u001b[1;32m<ipython-input-1-f511941e6b3f>\u001b[0m in \u001b[0;36m<module>\u001b[1;34m()\u001b[0m\n\u001b[1;32m----> 1\u001b[1;33m \u001b[1;32mfor\u001b[0m \u001b[0mv\u001b[0m \u001b[1;32min\u001b[0m \u001b[0mlist\u001b[0m\u001b[1;33m(\u001b[0m\u001b[0mmyDict\u001b[0m\u001b[1;33m.\u001b[0m\u001b[0mvalues\u001b[0m\u001b[1;33m(\u001b[0m\u001b[1;33m)\u001b[0m\u001b[1;33m)\u001b[0m\u001b[1;33m:\u001b[0m\u001b[1;33m\u001b[0m\u001b[0m\n\u001b[0m\u001b[0;32m      2\u001b[0m     \u001b[0mprint\u001b[0m\u001b[1;33m(\u001b[0m\u001b[0mv\u001b[0m\u001b[1;33m)\u001b[0m\u001b[1;33m\u001b[0m\u001b[0m\n\u001b[0;32m      3\u001b[0m \u001b[1;33m\u001b[0m\u001b[0m\n\u001b[0;32m      4\u001b[0m \u001b[0mprint\u001b[0m\u001b[1;33m(\u001b[0m\u001b[1;33m)\u001b[0m\u001b[1;33m\u001b[0m\u001b[0m\n",
      "\u001b[1;31mNameError\u001b[0m: name 'myDict' is not defined"
     ]
    }
   ],
   "source": [
    "for v in list(myDict.values()):\n",
    "    print(v)\n",
    "    \n",
    "print() \n"
   ]
  },
  {
   "cell_type": "code",
   "execution_count": 15,
   "metadata": {},
   "outputs": [
    {
     "name": "stdout",
     "output_type": "stream",
     "text": [
      "['a', 'b', 'c', 'd']\n",
      "['gold', 'silver', 'bronze', 'platinum']\n"
     ]
    }
   ],
   "source": [
    "print((list(myDict.keys())))\n",
    "print((list(myDict.values())))\n"
   ]
  },
  {
   "cell_type": "code",
   "execution_count": null,
   "metadata": {
    "collapsed": true
   },
   "outputs": [],
   "source": [
    "for v in sorted(myDict.values()):\n",
    "    print(v)\n",
    "    \n",
    "print()\n"
   ]
  },
  {
   "cell_type": "code",
   "execution_count": 14,
   "metadata": {},
   "outputs": [
    {
     "name": "stdout",
     "output_type": "stream",
     "text": [
      "('a', ':', 'gold')\n",
      "('b', ':', 'silver')\n",
      "('c', ':', 'bronze')\n",
      "('d', ':', 'platinum')\n"
     ]
    }
   ],
   "source": [
    "for key in sorted(myDict.keys()):\n",
    "    print((key, ':', myDict[key]))"
   ]
  },
  {
   "cell_type": "code",
   "execution_count": 8,
   "metadata": {},
   "outputs": [
    {
     "data": {
      "text/plain": [
       "1508915270.6082218"
      ]
     },
     "execution_count": 8,
     "metadata": {},
     "output_type": "execute_result"
    }
   ],
   "source": [
    "import time\n",
    "time.time()"
   ]
  },
  {
   "cell_type": "code",
   "execution_count": 11,
   "metadata": {
    "collapsed": true
   },
   "outputs": [],
   "source": [
    "biglist = []\n",
    "bigdict = {}\n",
    "for j in range(10000000):\n",
    "    biglist.append(j)\n",
    "    bigdict[j]=j"
   ]
  },
  {
   "cell_type": "code",
   "execution_count": 10,
   "metadata": {},
   "outputs": [
    {
     "name": "stdout",
     "output_type": "stream",
     "text": [
      "('Time for list lookup: ', 0.21266531944274902)\n",
      "('Time for dict lookup: ', 0.0)\n"
     ]
    }
   ],
   "source": [
    "t1 = time.time()\n",
    "list_tf = 9999999 in biglist\n",
    "t2 = time.time()\n",
    "dict_tf = 9999999 in bigdict\n",
    "t3 = time.time()\n",
    "\n",
    "print((\"Time for list lookup: \", t2-t1))\n",
    "print((\"Time for dict lookup: \", t3-t2))"
   ]
  },
  {
   "cell_type": "markdown",
   "metadata": {},
   "source": [
    "### Practice"
   ]
  },
  {
   "cell_type": "code",
   "execution_count": 12,
   "metadata": {},
   "outputs": [
    {
     "name": "stdout",
     "output_type": "stream",
     "text": [
      "{'bob': 'bob@example.com', 'Jane': 'jane@example.com', 'Stou': 'stou@example.net'}\n",
      "\n",
      "{'bob': 'bob@example.com', 'Jane': 'jane@example.com'}\n"
     ]
    }
   ],
   "source": [
    "emails = {'bob': 'bob@example.com', \n",
    "          'Jane': 'jane@example.com', \n",
    "          'Stou': 'stou@example.net'}\n",
    "\n",
    "newdict = {}\n",
    "\n",
    "# For every email that has .com in the email, save it in the newdict\n",
    "# print both the emails and newdict\n",
    "\n",
    "for name,email in list(emails.items()):\n",
    "    if '.com' in email:\n",
    "        newdict[name]=email\n",
    "\n",
    "print(emails)\n",
    "print()\n",
    "print(newdict)"
   ]
  },
  {
   "cell_type": "markdown",
   "metadata": {},
   "source": [
    "### Extra Notes"
   ]
  },
  {
   "cell_type": "code",
   "execution_count": 13,
   "metadata": {},
   "outputs": [
    {
     "name": "stdout",
     "output_type": "stream",
     "text": [
      "{'bob': True, 'Jane': True, 'Stou': False}\n",
      "3\n",
      "{'bob': 'bob@example.com', 'Jane': 'jane@example.com', 'Stou': 'stou@example.net'}\n",
      "<class 'dict'>\n"
     ]
    }
   ],
   "source": [
    "email_at_dotcom = dict( (name, '.com' in email) \n",
    "                       for name,email in list(emails.items()))\n",
    "print((email_at_dotcom))\n",
    "\n",
    "print((len(emails)))\n",
    "print((str(emails)))\n",
    "print((type(emails)))\n"
   ]
  },
  {
   "cell_type": "code",
   "execution_count": null,
   "metadata": {
    "collapsed": true
   },
   "outputs": [],
   "source": [
    "new_emails = emails.copy()\n",
    "print(new_emails)\n",
    "\n",
    "new_emails.clear()\n",
    "print(new_emails)\n"
   ]
  },
  {
   "cell_type": "code",
   "execution_count": null,
   "metadata": {
    "collapsed": true
   },
   "outputs": [],
   "source": [
    "\n",
    "new_emails = {'jane': 'jane@example.com', \n",
    "              'Julie': 'julie@example.com', \n",
    "              'Stam': 'stam@example.net'}\n",
    "seq = ('Jane', 'Julie')\n",
    "\n",
    "print((type(seq)))\n",
    "\n"
   ]
  },
  {
   "cell_type": "code",
   "execution_count": null,
   "metadata": {
    "collapsed": true
   },
   "outputs": [],
   "source": [
    "# use a tuple of keys to retrieve info from dict \n",
    "other = new_emails.fromkeys(seq, 'info@example.com')\n",
    "print(other)\n"
   ]
  },
  {
   "cell_type": "code",
   "execution_count": null,
   "metadata": {
    "collapsed": true
   },
   "outputs": [],
   "source": [
    "print(('bob' in emails))"
   ]
  },
  {
   "cell_type": "code",
   "execution_count": null,
   "metadata": {
    "collapsed": true
   },
   "outputs": [],
   "source": [
    "print((emails.get('bob')))\n",
    "print((emails.get('Michael')))"
   ]
  },
  {
   "cell_type": "markdown",
   "metadata": {},
   "source": [
    "### Practice"
   ]
  },
  {
   "cell_type": "code",
   "execution_count": 23,
   "metadata": {},
   "outputs": [
    {
     "name": "stdout",
     "output_type": "stream",
     "text": [
      "3.84\n",
      "3.36\n",
      "2.1\n"
     ]
    },
    {
     "ename": "NameError",
     "evalue": "name 'split' is not defined",
     "output_type": "error",
     "traceback": [
      "\u001b[1;31m---------------------------------------------------------------------------\u001b[0m",
      "\u001b[1;31mNameError\u001b[0m                                 Traceback (most recent call last)",
      "\u001b[1;32m<ipython-input-23-74d40f8d0502>\u001b[0m in \u001b[0;36m<module>\u001b[1;34m()\u001b[0m\n\u001b[0;32m     12\u001b[0m \u001b[1;33m\u001b[0m\u001b[0m\n\u001b[0;32m     13\u001b[0m \u001b[1;33m\u001b[0m\u001b[0m\n\u001b[1;32m---> 14\u001b[1;33m \u001b[0msplit\u001b[0m\u001b[1;33m(\u001b[0m\u001b[0mnewdict\u001b[0m\u001b[1;33m[\u001b[0m\u001b[0mn\u001b[0m\u001b[1;33m]\u001b[0m\u001b[1;33m)\u001b[0m\u001b[1;33m\u001b[0m\u001b[0m\n\u001b[0m",
      "\u001b[1;31mNameError\u001b[0m: name 'split' is not defined"
     ]
    }
   ],
   "source": [
    "# Q1\n",
    "# Write a function to increase the prices of all the items in the dictionary by 20%\n",
    "goods = {'coffee': 3.20, \n",
    "          'bread': 2.80, \n",
    "          'coke': 1.75}\n",
    "newdict = {}\n",
    "for n, price in goods.items(): \n",
    "    if 'coffee' or 'bread' or 'coke':\n",
    "        newdict[n] = 1.2*price\n",
    "        \n",
    "        print(newdict[n])\n",
    "    \n",
    "   \n",
    "split(newdict[n])\n"
   ]
  },
  {
   "cell_type": "code",
   "execution_count": null,
   "metadata": {
    "collapsed": true
   },
   "outputs": [],
   "source": []
  }
 ],
 "metadata": {
  "anaconda-cloud": {},
  "kernelspec": {
   "display_name": "Python 3",
   "language": "python",
   "name": "python3"
  },
  "language_info": {
   "codemirror_mode": {
    "name": "ipython",
    "version": 3
   },
   "file_extension": ".py",
   "mimetype": "text/x-python",
   "name": "python",
   "nbconvert_exporter": "python",
   "pygments_lexer": "ipython3",
   "version": "3.6.2"
  }
 },
 "nbformat": 4,
 "nbformat_minor": 1
}
