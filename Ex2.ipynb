{
 "cells": [
  {
   "cell_type": "markdown",
   "metadata": {},
   "source": [
    "RUN ME\n",
    "==\n",
    "\n",
    "Please run the below code snippet. It is required for running tests for your solution."
   ]
  },
  {
   "cell_type": "code",
   "execution_count": 1,
   "metadata": {
    "collapsed": true
   },
   "outputs": [],
   "source": [
    "def test(got, expected):\n",
    "    if got == expected:\n",
    "        prefix = ' OK '\n",
    "    else:\n",
    "        prefix = '  FAIL '\n",
    "    print(('%s got: %s expected: %s' % (prefix, repr(got), repr(expected))))"
   ]
  },
  {
   "cell_type": "markdown",
   "metadata": {},
   "source": [
    "### Question 1"
   ]
  },
  {
   "cell_type": "code",
   "execution_count": 23,
   "metadata": {},
   "outputs": [
    {
     "name": "stdout",
     "output_type": "stream",
     "text": [
      "verbing\n",
      " OK  got: 'hailing' expected: 'hailing'\n",
      " OK  got: 'swimingly' expected: 'swimingly'\n",
      " OK  got: 'do' expected: 'do'\n"
     ]
    }
   ],
   "source": [
    "# D. verbing\n",
    "# Given a string, if its length is at least 3,\n",
    "# add 'ing' to its end.\n",
    "# Unless it already ends in 'ing', in which case\n",
    "# add 'ly' instead.\n",
    "# If the string length is less than 3, leave it unchanged.\n",
    "# Return the resulting string.\n",
    "def verbing(s):\n",
    "        count = s.count(s)\n",
    "        \n",
    "        if len(s) > 2 and s.endswith('ing'):\n",
    "            return s + \"ly\"\n",
    "        elif len(s) > 2:\n",
    "            return s + \"ing\"\n",
    "    \n",
    "        else:\n",
    "            return s\n",
    "\n",
    "    \n",
    "\n",
    "print('verbing')\n",
    "test(verbing('hail'), 'hailing')\n",
    "test(verbing('swiming'), 'swimingly')\n",
    "test(verbing('do'), 'do')"
   ]
  },
  {
   "cell_type": "markdown",
   "metadata": {},
   "source": [
    "Question 2\n",
    "=="
   ]
  },
  {
   "cell_type": "code",
   "execution_count": null,
   "metadata": {
    "collapsed": true
   },
   "outputs": [],
   "source": [
    "# E. not_bad\n",
    "# Given a string, find the first appearance of the\n",
    "# substring 'not' and 'bad'. If the 'bad' follows\n",
    "# the 'not', replace the whole 'not'...'bad' substring\n",
    "# with 'good'.\n",
    "# Return the resulting string.\n",
    "# So 'This dinner is not that bad!' yields:\n",
    "# This dinner is good!\n",
    "def not_bad(s):\n",
    "    \n",
    "\n",
    "    \n",
    "\n",
    "\n",
    "print()\n",
    "print('not_bad')\n",
    "test(not_bad('This movie is not so bad'), 'This movie is good')\n",
    "test(not_bad('This dinner is not that bad!'), 'This dinner is good!')\n",
    "test(not_bad('This tea is not hot'), 'This tea is not hot')\n",
    "test(not_bad(\"It's bad yet not\"), \"It's bad yet not\")"
   ]
  },
  {
   "cell_type": "markdown",
   "metadata": {},
   "source": [
    "Question 3\n",
    "=="
   ]
  },
  {
   "cell_type": "code",
   "execution_count": 32,
   "metadata": {},
   "outputs": [
    {
     "ename": "SyntaxError",
     "evalue": "invalid syntax (<ipython-input-32-587f17286a43>, line 18)",
     "output_type": "error",
     "traceback": [
      "\u001b[1;36m  File \u001b[1;32m\"<ipython-input-32-587f17286a43>\"\u001b[1;36m, line \u001b[1;32m18\u001b[0m\n\u001b[1;33m    else :\u001b[0m\n\u001b[1;37m       ^\u001b[0m\n\u001b[1;31mSyntaxError\u001b[0m\u001b[1;31m:\u001b[0m invalid syntax\n"
     ]
    }
   ],
   "source": [
    "\n",
    "# F. front_back\n",
    "# Consider dividing a string into two halves.\n",
    "# If the length is even, the front and back halves are the same length.\n",
    "# If the length is odd, we'll say that the extra char goes in the front half.\n",
    "# e.g. 'abcde', the front half is 'abc', the back half 'de'.\n",
    "# Given 2 strings, a and b, return a string of the form\n",
    "#  a-front + b-front + a-back + b-back\n",
    "def front_back(a, b):\n",
    "    \n",
    "    x = len(a)\n",
    "    y = len (b)\n",
    "    \n",
    "    if len (x) % 2 == 0:\n",
    "    \n",
    "        af,ab = a[:len(x/2)], b[:len(x/2)]\n",
    "        \n",
    "        else :\n",
    "            \n",
    "            af,ab = a[:len(x/2) + 1], b[:len(x/2)] #af = a-front, ab = a-back\n",
    "            \n",
    "            if len (y) %2 == 0:\n",
    "                \n",
    "                bf,bb = a[:len(y/2)], b[:len(y/2)] #bf = b-front, bb = b-back\n",
    "                \n",
    "                else :\n",
    "                    \n",
    "                    bf,bb =a[:len(y/2) + 1], b[:len(y/2)]\n",
    "    \n",
    "    return af + bf + ab + bb\n",
    "\n",
    "print()\n",
    "print('front_back')\n",
    "test(front_back('abcd', 'xy'), 'abxcdy')\n",
    "test(front_back('abcde', 'xyz'), 'abcxydez')\n",
    "test(front_back('Kitten', 'Donut'), 'KitDontenut')"
   ]
  },
  {
   "cell_type": "code",
   "execution_count": null,
   "metadata": {
    "collapsed": true
   },
   "outputs": [],
   "source": []
  },
  {
   "cell_type": "code",
   "execution_count": null,
   "metadata": {
    "collapsed": true
   },
   "outputs": [],
   "source": []
  }
 ],
 "metadata": {
  "kernelspec": {
   "display_name": "Python 3",
   "language": "python",
   "name": "python3"
  },
  "language_info": {
   "codemirror_mode": {
    "name": "ipython",
    "version": 3
   },
   "file_extension": ".py",
   "mimetype": "text/x-python",
   "name": "python",
   "nbconvert_exporter": "python",
   "pygments_lexer": "ipython3",
   "version": "3.6.2"
  }
 },
 "nbformat": 4,
 "nbformat_minor": 1
}
